{
 "cells": [
  {
   "cell_type": "markdown",
   "id": "f12566a7",
   "metadata": {},
   "source": [
    "# Importing libraries and dataset"
   ]
  },
  {
   "cell_type": "code",
   "execution_count": 1,
   "id": "4a51c3c5",
   "metadata": {},
   "outputs": [],
   "source": [
    "import pandas as pd\n",
    "import numpy as np\n",
    "import matplotlib.pyplot as plt\n",
    "import seaborn as sns"
   ]
  },
  {
   "cell_type": "code",
   "execution_count": 2,
   "id": "f2fc5f4a",
   "metadata": {},
   "outputs": [],
   "source": [
    "df=pd.read_csv(r\"C:\\Users\\Naibei_jr\\Desktop\\ANACONDA SCRIPTS/covid_19_india.csv\")"
   ]
  },
  {
   "cell_type": "code",
   "execution_count": 3,
   "id": "331a5e42",
   "metadata": {},
   "outputs": [
    {
     "data": {
      "text/html": [
       "<div>\n",
       "<style scoped>\n",
       "    .dataframe tbody tr th:only-of-type {\n",
       "        vertical-align: middle;\n",
       "    }\n",
       "\n",
       "    .dataframe tbody tr th {\n",
       "        vertical-align: top;\n",
       "    }\n",
       "\n",
       "    .dataframe thead th {\n",
       "        text-align: right;\n",
       "    }\n",
       "</style>\n",
       "<table border=\"1\" class=\"dataframe\">\n",
       "  <thead>\n",
       "    <tr style=\"text-align: right;\">\n",
       "      <th></th>\n",
       "      <th>Sno</th>\n",
       "      <th>Date</th>\n",
       "      <th>Time</th>\n",
       "      <th>State/UnionTerritory</th>\n",
       "      <th>ConfirmedIndianNational</th>\n",
       "      <th>ConfirmedForeignNational</th>\n",
       "      <th>Cured</th>\n",
       "      <th>Deaths</th>\n",
       "      <th>Confirmed</th>\n",
       "    </tr>\n",
       "  </thead>\n",
       "  <tbody>\n",
       "    <tr>\n",
       "      <th>0</th>\n",
       "      <td>1.0</td>\n",
       "      <td>2020-01-30</td>\n",
       "      <td>6:00 PM</td>\n",
       "      <td>Kerala</td>\n",
       "      <td>1</td>\n",
       "      <td>0</td>\n",
       "      <td>0.0</td>\n",
       "      <td>0.0</td>\n",
       "      <td>1.0</td>\n",
       "    </tr>\n",
       "    <tr>\n",
       "      <th>1</th>\n",
       "      <td>2.0</td>\n",
       "      <td>2020-01-31</td>\n",
       "      <td>6:00 PM</td>\n",
       "      <td>Kerala</td>\n",
       "      <td>1</td>\n",
       "      <td>0</td>\n",
       "      <td>0.0</td>\n",
       "      <td>0.0</td>\n",
       "      <td>1.0</td>\n",
       "    </tr>\n",
       "    <tr>\n",
       "      <th>2</th>\n",
       "      <td>3.0</td>\n",
       "      <td>2020-02-01</td>\n",
       "      <td>6:00 PM</td>\n",
       "      <td>Kerala</td>\n",
       "      <td>2</td>\n",
       "      <td>0</td>\n",
       "      <td>0.0</td>\n",
       "      <td>0.0</td>\n",
       "      <td>2.0</td>\n",
       "    </tr>\n",
       "    <tr>\n",
       "      <th>3</th>\n",
       "      <td>4.0</td>\n",
       "      <td>2020-02-02</td>\n",
       "      <td>6:00 PM</td>\n",
       "      <td>Kerala</td>\n",
       "      <td>3</td>\n",
       "      <td>0</td>\n",
       "      <td>0.0</td>\n",
       "      <td>0.0</td>\n",
       "      <td>3.0</td>\n",
       "    </tr>\n",
       "    <tr>\n",
       "      <th>4</th>\n",
       "      <td>5.0</td>\n",
       "      <td>2020-02-03</td>\n",
       "      <td>6:00 PM</td>\n",
       "      <td>Kerala</td>\n",
       "      <td>3</td>\n",
       "      <td>0</td>\n",
       "      <td>0.0</td>\n",
       "      <td>0.0</td>\n",
       "      <td>3.0</td>\n",
       "    </tr>\n",
       "  </tbody>\n",
       "</table>\n",
       "</div>"
      ],
      "text/plain": [
       "   Sno        Date     Time State/UnionTerritory ConfirmedIndianNational  \\\n",
       "0  1.0  2020-01-30  6:00 PM               Kerala                       1   \n",
       "1  2.0  2020-01-31  6:00 PM               Kerala                       1   \n",
       "2  3.0  2020-02-01  6:00 PM               Kerala                       2   \n",
       "3  4.0  2020-02-02  6:00 PM               Kerala                       3   \n",
       "4  5.0  2020-02-03  6:00 PM               Kerala                       3   \n",
       "\n",
       "  ConfirmedForeignNational  Cured  Deaths  Confirmed  \n",
       "0                        0    0.0     0.0        1.0  \n",
       "1                        0    0.0     0.0        1.0  \n",
       "2                        0    0.0     0.0        2.0  \n",
       "3                        0    0.0     0.0        3.0  \n",
       "4                        0    0.0     0.0        3.0  "
      ]
     },
     "execution_count": 3,
     "metadata": {},
     "output_type": "execute_result"
    }
   ],
   "source": [
    "#displaying the first 5 rows of the dataset\n",
    "df.head()"
   ]
  },
  {
   "cell_type": "code",
   "execution_count": 4,
   "id": "c49d85eb",
   "metadata": {
    "scrolled": true
   },
   "outputs": [
    {
     "data": {
      "text/html": [
       "<div>\n",
       "<style scoped>\n",
       "    .dataframe tbody tr th:only-of-type {\n",
       "        vertical-align: middle;\n",
       "    }\n",
       "\n",
       "    .dataframe tbody tr th {\n",
       "        vertical-align: top;\n",
       "    }\n",
       "\n",
       "    .dataframe thead th {\n",
       "        text-align: right;\n",
       "    }\n",
       "</style>\n",
       "<table border=\"1\" class=\"dataframe\">\n",
       "  <thead>\n",
       "    <tr style=\"text-align: right;\">\n",
       "      <th></th>\n",
       "      <th>Sno</th>\n",
       "      <th>Date</th>\n",
       "      <th>Time</th>\n",
       "      <th>State/UnionTerritory</th>\n",
       "      <th>ConfirmedIndianNational</th>\n",
       "      <th>ConfirmedForeignNational</th>\n",
       "      <th>Cured</th>\n",
       "      <th>Deaths</th>\n",
       "      <th>Confirmed</th>\n",
       "    </tr>\n",
       "  </thead>\n",
       "  <tbody>\n",
       "    <tr>\n",
       "      <th>15084</th>\n",
       "      <td>15085.0</td>\n",
       "      <td>2021-05-19</td>\n",
       "      <td>8:00 AM</td>\n",
       "      <td>Uttar Pradesh</td>\n",
       "      <td>-</td>\n",
       "      <td>-</td>\n",
       "      <td>1483249.0</td>\n",
       "      <td>18072.0</td>\n",
       "      <td>1637663.0</td>\n",
       "    </tr>\n",
       "    <tr>\n",
       "      <th>15085</th>\n",
       "      <td>15086.0</td>\n",
       "      <td>2021-05-19</td>\n",
       "      <td>8:00 AM</td>\n",
       "      <td>West Bengal</td>\n",
       "      <td>-</td>\n",
       "      <td>-</td>\n",
       "      <td>1026492.0</td>\n",
       "      <td>13576.0</td>\n",
       "      <td>1171861.0</td>\n",
       "    </tr>\n",
       "    <tr>\n",
       "      <th>15086</th>\n",
       "      <td>NaN</td>\n",
       "      <td>NaN</td>\n",
       "      <td>NaN</td>\n",
       "      <td>NaN</td>\n",
       "      <td>NaN</td>\n",
       "      <td>NaN</td>\n",
       "      <td>NaN</td>\n",
       "      <td>NaN</td>\n",
       "      <td>NaN</td>\n",
       "    </tr>\n",
       "    <tr>\n",
       "      <th>15087</th>\n",
       "      <td>NaN</td>\n",
       "      <td>NaN</td>\n",
       "      <td>NaN</td>\n",
       "      <td>NaN</td>\n",
       "      <td>NaN</td>\n",
       "      <td>NaN</td>\n",
       "      <td>NaN</td>\n",
       "      <td>NaN</td>\n",
       "      <td>NaN</td>\n",
       "    </tr>\n",
       "    <tr>\n",
       "      <th>15088</th>\n",
       "      <td>NaN</td>\n",
       "      <td>NaN</td>\n",
       "      <td>NaN</td>\n",
       "      <td>NaN</td>\n",
       "      <td>NaN</td>\n",
       "      <td>NaN</td>\n",
       "      <td>NaN</td>\n",
       "      <td>NaN</td>\n",
       "      <td>NaN</td>\n",
       "    </tr>\n",
       "    <tr>\n",
       "      <th>15089</th>\n",
       "      <td>NaN</td>\n",
       "      <td>NaN</td>\n",
       "      <td>NaN</td>\n",
       "      <td>NaN</td>\n",
       "      <td>NaN</td>\n",
       "      <td>NaN</td>\n",
       "      <td>NaN</td>\n",
       "      <td>NaN</td>\n",
       "      <td>NaN</td>\n",
       "    </tr>\n",
       "    <tr>\n",
       "      <th>15090</th>\n",
       "      <td>NaN</td>\n",
       "      <td>NaN</td>\n",
       "      <td>NaN</td>\n",
       "      <td>NaN</td>\n",
       "      <td>NaN</td>\n",
       "      <td>NaN</td>\n",
       "      <td>NaN</td>\n",
       "      <td>NaN</td>\n",
       "      <td>NaN</td>\n",
       "    </tr>\n",
       "    <tr>\n",
       "      <th>15091</th>\n",
       "      <td>NaN</td>\n",
       "      <td>NaN</td>\n",
       "      <td>NaN</td>\n",
       "      <td>NaN</td>\n",
       "      <td>NaN</td>\n",
       "      <td>NaN</td>\n",
       "      <td>NaN</td>\n",
       "      <td>NaN</td>\n",
       "      <td>NaN</td>\n",
       "    </tr>\n",
       "    <tr>\n",
       "      <th>15092</th>\n",
       "      <td>NaN</td>\n",
       "      <td>NaN</td>\n",
       "      <td>NaN</td>\n",
       "      <td>NaN</td>\n",
       "      <td>NaN</td>\n",
       "      <td>NaN</td>\n",
       "      <td>NaN</td>\n",
       "      <td>NaN</td>\n",
       "      <td>NaN</td>\n",
       "    </tr>\n",
       "    <tr>\n",
       "      <th>15093</th>\n",
       "      <td>NaN</td>\n",
       "      <td>NaN</td>\n",
       "      <td>NaN</td>\n",
       "      <td>NaN</td>\n",
       "      <td>NaN</td>\n",
       "      <td>NaN</td>\n",
       "      <td>NaN</td>\n",
       "      <td>NaN</td>\n",
       "      <td>NaN</td>\n",
       "    </tr>\n",
       "    <tr>\n",
       "      <th>15094</th>\n",
       "      <td>NaN</td>\n",
       "      <td>NaN</td>\n",
       "      <td>NaN</td>\n",
       "      <td>NaN</td>\n",
       "      <td>NaN</td>\n",
       "      <td>NaN</td>\n",
       "      <td>NaN</td>\n",
       "      <td>NaN</td>\n",
       "      <td>NaN</td>\n",
       "    </tr>\n",
       "    <tr>\n",
       "      <th>15095</th>\n",
       "      <td>NaN</td>\n",
       "      <td>NaN</td>\n",
       "      <td>NaN</td>\n",
       "      <td>NaN</td>\n",
       "      <td>NaN</td>\n",
       "      <td>NaN</td>\n",
       "      <td>NaN</td>\n",
       "      <td>NaN</td>\n",
       "      <td>NaN</td>\n",
       "    </tr>\n",
       "    <tr>\n",
       "      <th>15096</th>\n",
       "      <td>NaN</td>\n",
       "      <td>NaN</td>\n",
       "      <td>NaN</td>\n",
       "      <td>NaN</td>\n",
       "      <td>NaN</td>\n",
       "      <td>NaN</td>\n",
       "      <td>NaN</td>\n",
       "      <td>NaN</td>\n",
       "      <td>NaN</td>\n",
       "    </tr>\n",
       "    <tr>\n",
       "      <th>15097</th>\n",
       "      <td>NaN</td>\n",
       "      <td>NaN</td>\n",
       "      <td>NaN</td>\n",
       "      <td>NaN</td>\n",
       "      <td>NaN</td>\n",
       "      <td>NaN</td>\n",
       "      <td>NaN</td>\n",
       "      <td>NaN</td>\n",
       "      <td>NaN</td>\n",
       "    </tr>\n",
       "    <tr>\n",
       "      <th>15098</th>\n",
       "      <td>NaN</td>\n",
       "      <td>NaN</td>\n",
       "      <td>NaN</td>\n",
       "      <td>NaN</td>\n",
       "      <td>NaN</td>\n",
       "      <td>NaN</td>\n",
       "      <td>NaN</td>\n",
       "      <td>NaN</td>\n",
       "      <td>NaN</td>\n",
       "    </tr>\n",
       "    <tr>\n",
       "      <th>15099</th>\n",
       "      <td>NaN</td>\n",
       "      <td>NaN</td>\n",
       "      <td>NaN</td>\n",
       "      <td>NaN</td>\n",
       "      <td>NaN</td>\n",
       "      <td>NaN</td>\n",
       "      <td>NaN</td>\n",
       "      <td>NaN</td>\n",
       "      <td>NaN</td>\n",
       "    </tr>\n",
       "    <tr>\n",
       "      <th>15100</th>\n",
       "      <td>NaN</td>\n",
       "      <td>NaN</td>\n",
       "      <td>NaN</td>\n",
       "      <td>NaN</td>\n",
       "      <td>NaN</td>\n",
       "      <td>NaN</td>\n",
       "      <td>NaN</td>\n",
       "      <td>NaN</td>\n",
       "      <td>NaN</td>\n",
       "    </tr>\n",
       "    <tr>\n",
       "      <th>15101</th>\n",
       "      <td>NaN</td>\n",
       "      <td>NaN</td>\n",
       "      <td>NaN</td>\n",
       "      <td>NaN</td>\n",
       "      <td>NaN</td>\n",
       "      <td>NaN</td>\n",
       "      <td>NaN</td>\n",
       "      <td>NaN</td>\n",
       "      <td>NaN</td>\n",
       "    </tr>\n",
       "    <tr>\n",
       "      <th>15102</th>\n",
       "      <td>NaN</td>\n",
       "      <td>NaN</td>\n",
       "      <td>NaN</td>\n",
       "      <td>NaN</td>\n",
       "      <td>NaN</td>\n",
       "      <td>NaN</td>\n",
       "      <td>NaN</td>\n",
       "      <td>NaN</td>\n",
       "      <td>NaN</td>\n",
       "    </tr>\n",
       "    <tr>\n",
       "      <th>15103</th>\n",
       "      <td>NaN</td>\n",
       "      <td>NaN</td>\n",
       "      <td>NaN</td>\n",
       "      <td>NaN</td>\n",
       "      <td>NaN</td>\n",
       "      <td>NaN</td>\n",
       "      <td>NaN</td>\n",
       "      <td>NaN</td>\n",
       "      <td>NaN</td>\n",
       "    </tr>\n",
       "    <tr>\n",
       "      <th>15104</th>\n",
       "      <td>NaN</td>\n",
       "      <td>NaN</td>\n",
       "      <td>NaN</td>\n",
       "      <td>NaN</td>\n",
       "      <td>NaN</td>\n",
       "      <td>NaN</td>\n",
       "      <td>NaN</td>\n",
       "      <td>NaN</td>\n",
       "      <td>NaN</td>\n",
       "    </tr>\n",
       "    <tr>\n",
       "      <th>15105</th>\n",
       "      <td>NaN</td>\n",
       "      <td>NaN</td>\n",
       "      <td>NaN</td>\n",
       "      <td>NaN</td>\n",
       "      <td>NaN</td>\n",
       "      <td>NaN</td>\n",
       "      <td>NaN</td>\n",
       "      <td>NaN</td>\n",
       "      <td>NaN</td>\n",
       "    </tr>\n",
       "    <tr>\n",
       "      <th>15106</th>\n",
       "      <td>NaN</td>\n",
       "      <td>NaN</td>\n",
       "      <td>NaN</td>\n",
       "      <td>NaN</td>\n",
       "      <td>NaN</td>\n",
       "      <td>NaN</td>\n",
       "      <td>NaN</td>\n",
       "      <td>NaN</td>\n",
       "      <td>NaN</td>\n",
       "    </tr>\n",
       "    <tr>\n",
       "      <th>15107</th>\n",
       "      <td>NaN</td>\n",
       "      <td>NaN</td>\n",
       "      <td>NaN</td>\n",
       "      <td>NaN</td>\n",
       "      <td>NaN</td>\n",
       "      <td>NaN</td>\n",
       "      <td>NaN</td>\n",
       "      <td>NaN</td>\n",
       "      <td>NaN</td>\n",
       "    </tr>\n",
       "    <tr>\n",
       "      <th>15108</th>\n",
       "      <td>NaN</td>\n",
       "      <td>NaN</td>\n",
       "      <td>NaN</td>\n",
       "      <td>NaN</td>\n",
       "      <td>NaN</td>\n",
       "      <td>NaN</td>\n",
       "      <td>NaN</td>\n",
       "      <td>NaN</td>\n",
       "      <td>NaN</td>\n",
       "    </tr>\n",
       "    <tr>\n",
       "      <th>15109</th>\n",
       "      <td>NaN</td>\n",
       "      <td>NaN</td>\n",
       "      <td>NaN</td>\n",
       "      <td>NaN</td>\n",
       "      <td>NaN</td>\n",
       "      <td>NaN</td>\n",
       "      <td>NaN</td>\n",
       "      <td>NaN</td>\n",
       "      <td>NaN</td>\n",
       "    </tr>\n",
       "    <tr>\n",
       "      <th>15110</th>\n",
       "      <td>NaN</td>\n",
       "      <td>NaN</td>\n",
       "      <td>NaN</td>\n",
       "      <td>NaN</td>\n",
       "      <td>NaN</td>\n",
       "      <td>NaN</td>\n",
       "      <td>NaN</td>\n",
       "      <td>NaN</td>\n",
       "      <td>NaN</td>\n",
       "    </tr>\n",
       "    <tr>\n",
       "      <th>15111</th>\n",
       "      <td>NaN</td>\n",
       "      <td>NaN</td>\n",
       "      <td>NaN</td>\n",
       "      <td>NaN</td>\n",
       "      <td>NaN</td>\n",
       "      <td>NaN</td>\n",
       "      <td>NaN</td>\n",
       "      <td>NaN</td>\n",
       "      <td>NaN</td>\n",
       "    </tr>\n",
       "    <tr>\n",
       "      <th>15112</th>\n",
       "      <td>NaN</td>\n",
       "      <td>NaN</td>\n",
       "      <td>NaN</td>\n",
       "      <td>NaN</td>\n",
       "      <td>NaN</td>\n",
       "      <td>NaN</td>\n",
       "      <td>NaN</td>\n",
       "      <td>NaN</td>\n",
       "      <td>NaN</td>\n",
       "    </tr>\n",
       "    <tr>\n",
       "      <th>15113</th>\n",
       "      <td>NaN</td>\n",
       "      <td>NaN</td>\n",
       "      <td>NaN</td>\n",
       "      <td>NaN</td>\n",
       "      <td>NaN</td>\n",
       "      <td>NaN</td>\n",
       "      <td>NaN</td>\n",
       "      <td>NaN</td>\n",
       "      <td>NaN</td>\n",
       "    </tr>\n",
       "  </tbody>\n",
       "</table>\n",
       "</div>"
      ],
      "text/plain": [
       "           Sno        Date     Time State/UnionTerritory  \\\n",
       "15084  15085.0  2021-05-19  8:00 AM        Uttar Pradesh   \n",
       "15085  15086.0  2021-05-19  8:00 AM          West Bengal   \n",
       "15086      NaN         NaN      NaN                  NaN   \n",
       "15087      NaN         NaN      NaN                  NaN   \n",
       "15088      NaN         NaN      NaN                  NaN   \n",
       "15089      NaN         NaN      NaN                  NaN   \n",
       "15090      NaN         NaN      NaN                  NaN   \n",
       "15091      NaN         NaN      NaN                  NaN   \n",
       "15092      NaN         NaN      NaN                  NaN   \n",
       "15093      NaN         NaN      NaN                  NaN   \n",
       "15094      NaN         NaN      NaN                  NaN   \n",
       "15095      NaN         NaN      NaN                  NaN   \n",
       "15096      NaN         NaN      NaN                  NaN   \n",
       "15097      NaN         NaN      NaN                  NaN   \n",
       "15098      NaN         NaN      NaN                  NaN   \n",
       "15099      NaN         NaN      NaN                  NaN   \n",
       "15100      NaN         NaN      NaN                  NaN   \n",
       "15101      NaN         NaN      NaN                  NaN   \n",
       "15102      NaN         NaN      NaN                  NaN   \n",
       "15103      NaN         NaN      NaN                  NaN   \n",
       "15104      NaN         NaN      NaN                  NaN   \n",
       "15105      NaN         NaN      NaN                  NaN   \n",
       "15106      NaN         NaN      NaN                  NaN   \n",
       "15107      NaN         NaN      NaN                  NaN   \n",
       "15108      NaN         NaN      NaN                  NaN   \n",
       "15109      NaN         NaN      NaN                  NaN   \n",
       "15110      NaN         NaN      NaN                  NaN   \n",
       "15111      NaN         NaN      NaN                  NaN   \n",
       "15112      NaN         NaN      NaN                  NaN   \n",
       "15113      NaN         NaN      NaN                  NaN   \n",
       "\n",
       "      ConfirmedIndianNational ConfirmedForeignNational      Cured   Deaths  \\\n",
       "15084                       -                        -  1483249.0  18072.0   \n",
       "15085                       -                        -  1026492.0  13576.0   \n",
       "15086                     NaN                      NaN        NaN      NaN   \n",
       "15087                     NaN                      NaN        NaN      NaN   \n",
       "15088                     NaN                      NaN        NaN      NaN   \n",
       "15089                     NaN                      NaN        NaN      NaN   \n",
       "15090                     NaN                      NaN        NaN      NaN   \n",
       "15091                     NaN                      NaN        NaN      NaN   \n",
       "15092                     NaN                      NaN        NaN      NaN   \n",
       "15093                     NaN                      NaN        NaN      NaN   \n",
       "15094                     NaN                      NaN        NaN      NaN   \n",
       "15095                     NaN                      NaN        NaN      NaN   \n",
       "15096                     NaN                      NaN        NaN      NaN   \n",
       "15097                     NaN                      NaN        NaN      NaN   \n",
       "15098                     NaN                      NaN        NaN      NaN   \n",
       "15099                     NaN                      NaN        NaN      NaN   \n",
       "15100                     NaN                      NaN        NaN      NaN   \n",
       "15101                     NaN                      NaN        NaN      NaN   \n",
       "15102                     NaN                      NaN        NaN      NaN   \n",
       "15103                     NaN                      NaN        NaN      NaN   \n",
       "15104                     NaN                      NaN        NaN      NaN   \n",
       "15105                     NaN                      NaN        NaN      NaN   \n",
       "15106                     NaN                      NaN        NaN      NaN   \n",
       "15107                     NaN                      NaN        NaN      NaN   \n",
       "15108                     NaN                      NaN        NaN      NaN   \n",
       "15109                     NaN                      NaN        NaN      NaN   \n",
       "15110                     NaN                      NaN        NaN      NaN   \n",
       "15111                     NaN                      NaN        NaN      NaN   \n",
       "15112                     NaN                      NaN        NaN      NaN   \n",
       "15113                     NaN                      NaN        NaN      NaN   \n",
       "\n",
       "       Confirmed  \n",
       "15084  1637663.0  \n",
       "15085  1171861.0  \n",
       "15086        NaN  \n",
       "15087        NaN  \n",
       "15088        NaN  \n",
       "15089        NaN  \n",
       "15090        NaN  \n",
       "15091        NaN  \n",
       "15092        NaN  \n",
       "15093        NaN  \n",
       "15094        NaN  \n",
       "15095        NaN  \n",
       "15096        NaN  \n",
       "15097        NaN  \n",
       "15098        NaN  \n",
       "15099        NaN  \n",
       "15100        NaN  \n",
       "15101        NaN  \n",
       "15102        NaN  \n",
       "15103        NaN  \n",
       "15104        NaN  \n",
       "15105        NaN  \n",
       "15106        NaN  \n",
       "15107        NaN  \n",
       "15108        NaN  \n",
       "15109        NaN  \n",
       "15110        NaN  \n",
       "15111        NaN  \n",
       "15112        NaN  \n",
       "15113        NaN  "
      ]
     },
     "execution_count": 4,
     "metadata": {},
     "output_type": "execute_result"
    }
   ],
   "source": [
    "#displaying the last 30 rows of the dataset\n",
    "df.tail(30)"
   ]
  },
  {
   "cell_type": "markdown",
   "id": "9ad0e2bd",
   "metadata": {},
   "source": [
    "# Dealing with nulls and duplicates"
   ]
  },
  {
   "cell_type": "code",
   "execution_count": 5,
   "id": "e10ebf8f",
   "metadata": {},
   "outputs": [
    {
     "data": {
      "text/plain": [
       "Sno                         28\n",
       "Date                        28\n",
       "Time                        28\n",
       "State/UnionTerritory        28\n",
       "ConfirmedIndianNational     28\n",
       "ConfirmedForeignNational    28\n",
       "Cured                       28\n",
       "Deaths                      28\n",
       "Confirmed                   28\n",
       "dtype: int64"
      ]
     },
     "execution_count": 5,
     "metadata": {},
     "output_type": "execute_result"
    }
   ],
   "source": [
    "#checking null values available in columns\n",
    "df.isnull().sum()"
   ]
  },
  {
   "cell_type": "code",
   "execution_count": 6,
   "id": "a6e86e38",
   "metadata": {
    "scrolled": false
   },
   "outputs": [],
   "source": [
    "#dropping all null values\n",
    "df.dropna(inplace=True)"
   ]
  },
  {
   "cell_type": "code",
   "execution_count": 7,
   "id": "fcea5520",
   "metadata": {},
   "outputs": [
    {
     "data": {
      "text/html": [
       "<div>\n",
       "<style scoped>\n",
       "    .dataframe tbody tr th:only-of-type {\n",
       "        vertical-align: middle;\n",
       "    }\n",
       "\n",
       "    .dataframe tbody tr th {\n",
       "        vertical-align: top;\n",
       "    }\n",
       "\n",
       "    .dataframe thead th {\n",
       "        text-align: right;\n",
       "    }\n",
       "</style>\n",
       "<table border=\"1\" class=\"dataframe\">\n",
       "  <thead>\n",
       "    <tr style=\"text-align: right;\">\n",
       "      <th></th>\n",
       "      <th>Sno</th>\n",
       "      <th>Date</th>\n",
       "      <th>Time</th>\n",
       "      <th>State/UnionTerritory</th>\n",
       "      <th>ConfirmedIndianNational</th>\n",
       "      <th>ConfirmedForeignNational</th>\n",
       "      <th>Cured</th>\n",
       "      <th>Deaths</th>\n",
       "      <th>Confirmed</th>\n",
       "    </tr>\n",
       "  </thead>\n",
       "  <tbody>\n",
       "    <tr>\n",
       "      <th>15081</th>\n",
       "      <td>15082.0</td>\n",
       "      <td>2021-05-19</td>\n",
       "      <td>8:00 AM</td>\n",
       "      <td>Telangana</td>\n",
       "      <td>-</td>\n",
       "      <td>-</td>\n",
       "      <td>485644.0</td>\n",
       "      <td>3012.0</td>\n",
       "      <td>536766.0</td>\n",
       "    </tr>\n",
       "    <tr>\n",
       "      <th>15082</th>\n",
       "      <td>15083.0</td>\n",
       "      <td>2021-05-19</td>\n",
       "      <td>8:00 AM</td>\n",
       "      <td>Tripura</td>\n",
       "      <td>-</td>\n",
       "      <td>-</td>\n",
       "      <td>36402.0</td>\n",
       "      <td>450.0</td>\n",
       "      <td>42776.0</td>\n",
       "    </tr>\n",
       "    <tr>\n",
       "      <th>15083</th>\n",
       "      <td>15084.0</td>\n",
       "      <td>2021-05-19</td>\n",
       "      <td>8:00 AM</td>\n",
       "      <td>Uttarakhand</td>\n",
       "      <td>-</td>\n",
       "      <td>-</td>\n",
       "      <td>214426.0</td>\n",
       "      <td>5132.0</td>\n",
       "      <td>295790.0</td>\n",
       "    </tr>\n",
       "    <tr>\n",
       "      <th>15084</th>\n",
       "      <td>15085.0</td>\n",
       "      <td>2021-05-19</td>\n",
       "      <td>8:00 AM</td>\n",
       "      <td>Uttar Pradesh</td>\n",
       "      <td>-</td>\n",
       "      <td>-</td>\n",
       "      <td>1483249.0</td>\n",
       "      <td>18072.0</td>\n",
       "      <td>1637663.0</td>\n",
       "    </tr>\n",
       "    <tr>\n",
       "      <th>15085</th>\n",
       "      <td>15086.0</td>\n",
       "      <td>2021-05-19</td>\n",
       "      <td>8:00 AM</td>\n",
       "      <td>West Bengal</td>\n",
       "      <td>-</td>\n",
       "      <td>-</td>\n",
       "      <td>1026492.0</td>\n",
       "      <td>13576.0</td>\n",
       "      <td>1171861.0</td>\n",
       "    </tr>\n",
       "  </tbody>\n",
       "</table>\n",
       "</div>"
      ],
      "text/plain": [
       "           Sno        Date     Time State/UnionTerritory  \\\n",
       "15081  15082.0  2021-05-19  8:00 AM            Telangana   \n",
       "15082  15083.0  2021-05-19  8:00 AM              Tripura   \n",
       "15083  15084.0  2021-05-19  8:00 AM          Uttarakhand   \n",
       "15084  15085.0  2021-05-19  8:00 AM        Uttar Pradesh   \n",
       "15085  15086.0  2021-05-19  8:00 AM          West Bengal   \n",
       "\n",
       "      ConfirmedIndianNational ConfirmedForeignNational      Cured   Deaths  \\\n",
       "15081                       -                        -   485644.0   3012.0   \n",
       "15082                       -                        -    36402.0    450.0   \n",
       "15083                       -                        -   214426.0   5132.0   \n",
       "15084                       -                        -  1483249.0  18072.0   \n",
       "15085                       -                        -  1026492.0  13576.0   \n",
       "\n",
       "       Confirmed  \n",
       "15081   536766.0  \n",
       "15082    42776.0  \n",
       "15083   295790.0  \n",
       "15084  1637663.0  \n",
       "15085  1171861.0  "
      ]
     },
     "execution_count": 7,
     "metadata": {},
     "output_type": "execute_result"
    }
   ],
   "source": [
    "#displaying the last 5 rows after dropping null values\n",
    "df.tail()"
   ]
  },
  {
   "cell_type": "code",
   "execution_count": 8,
   "id": "43036d6d",
   "metadata": {},
   "outputs": [
    {
     "data": {
      "text/plain": [
       "0"
      ]
     },
     "execution_count": 8,
     "metadata": {},
     "output_type": "execute_result"
    }
   ],
   "source": [
    "#looking for duplicates\n",
    "df.duplicated().sum()"
   ]
  },
  {
   "cell_type": "markdown",
   "id": "b7254e82",
   "metadata": {},
   "source": [
    "# General properties of the dataset"
   ]
  },
  {
   "cell_type": "code",
   "execution_count": 9,
   "id": "1233dff1",
   "metadata": {},
   "outputs": [
    {
     "data": {
      "text/plain": [
       "(15086, 9)"
      ]
     },
     "execution_count": 9,
     "metadata": {},
     "output_type": "execute_result"
    }
   ],
   "source": [
    "#number of rows and columns available \n",
    "df.shape"
   ]
  },
  {
   "cell_type": "code",
   "execution_count": 10,
   "id": "1a49e088",
   "metadata": {},
   "outputs": [
    {
     "name": "stdout",
     "output_type": "stream",
     "text": [
      "<class 'pandas.core.frame.DataFrame'>\n",
      "Int64Index: 15086 entries, 0 to 15085\n",
      "Data columns (total 9 columns):\n",
      " #   Column                    Non-Null Count  Dtype  \n",
      "---  ------                    --------------  -----  \n",
      " 0   Sno                       15086 non-null  float64\n",
      " 1   Date                      15086 non-null  object \n",
      " 2   Time                      15086 non-null  object \n",
      " 3   State/UnionTerritory      15086 non-null  object \n",
      " 4   ConfirmedIndianNational   15086 non-null  object \n",
      " 5   ConfirmedForeignNational  15086 non-null  object \n",
      " 6   Cured                     15086 non-null  float64\n",
      " 7   Deaths                    15086 non-null  float64\n",
      " 8   Confirmed                 15086 non-null  float64\n",
      "dtypes: float64(4), object(5)\n",
      "memory usage: 1.2+ MB\n"
     ]
    }
   ],
   "source": [
    "#column data types\n",
    "df.info()"
   ]
  },
  {
   "cell_type": "markdown",
   "id": "6f75f6b6",
   "metadata": {},
   "source": [
    "# Data cleaning"
   ]
  },
  {
   "cell_type": "code",
   "execution_count": 11,
   "id": "4a1f8d1d",
   "metadata": {},
   "outputs": [
    {
     "data": {
      "text/plain": [
       "Index(['Sno', 'Date', 'Time', 'State/UnionTerritory',\n",
       "       'ConfirmedIndianNational', 'ConfirmedForeignNational', 'Cured',\n",
       "       'Deaths', 'Confirmed'],\n",
       "      dtype='object')"
      ]
     },
     "execution_count": 11,
     "metadata": {},
     "output_type": "execute_result"
    }
   ],
   "source": [
    "#displaying column names\n",
    "df.columns"
   ]
  },
  {
   "cell_type": "code",
   "execution_count": 12,
   "id": "c654162f",
   "metadata": {},
   "outputs": [],
   "source": [
    "#dropping unnecessary columns\n",
    "df.drop(columns=['Sno','Time','ConfirmedIndianNational','ConfirmedForeignNational'],inplace=True)"
   ]
  },
  {
   "cell_type": "code",
   "execution_count": 13,
   "id": "6368930a",
   "metadata": {},
   "outputs": [
    {
     "data": {
      "text/html": [
       "<div>\n",
       "<style scoped>\n",
       "    .dataframe tbody tr th:only-of-type {\n",
       "        vertical-align: middle;\n",
       "    }\n",
       "\n",
       "    .dataframe tbody tr th {\n",
       "        vertical-align: top;\n",
       "    }\n",
       "\n",
       "    .dataframe thead th {\n",
       "        text-align: right;\n",
       "    }\n",
       "</style>\n",
       "<table border=\"1\" class=\"dataframe\">\n",
       "  <thead>\n",
       "    <tr style=\"text-align: right;\">\n",
       "      <th></th>\n",
       "      <th>Date</th>\n",
       "      <th>State/UnionTerritory</th>\n",
       "      <th>Cured</th>\n",
       "      <th>Deaths</th>\n",
       "      <th>Confirmed</th>\n",
       "    </tr>\n",
       "  </thead>\n",
       "  <tbody>\n",
       "    <tr>\n",
       "      <th>0</th>\n",
       "      <td>2020-01-30</td>\n",
       "      <td>Kerala</td>\n",
       "      <td>0.0</td>\n",
       "      <td>0.0</td>\n",
       "      <td>1.0</td>\n",
       "    </tr>\n",
       "    <tr>\n",
       "      <th>1</th>\n",
       "      <td>2020-01-31</td>\n",
       "      <td>Kerala</td>\n",
       "      <td>0.0</td>\n",
       "      <td>0.0</td>\n",
       "      <td>1.0</td>\n",
       "    </tr>\n",
       "  </tbody>\n",
       "</table>\n",
       "</div>"
      ],
      "text/plain": [
       "         Date State/UnionTerritory  Cured  Deaths  Confirmed\n",
       "0  2020-01-30               Kerala    0.0     0.0        1.0\n",
       "1  2020-01-31               Kerala    0.0     0.0        1.0"
      ]
     },
     "execution_count": 13,
     "metadata": {},
     "output_type": "execute_result"
    }
   ],
   "source": [
    "df.head(2)"
   ]
  },
  {
   "cell_type": "code",
   "execution_count": 14,
   "id": "b02a06bf",
   "metadata": {},
   "outputs": [
    {
     "name": "stdout",
     "output_type": "stream",
     "text": [
      "<class 'pandas.core.frame.DataFrame'>\n",
      "Int64Index: 15086 entries, 0 to 15085\n",
      "Data columns (total 5 columns):\n",
      " #   Column                Non-Null Count  Dtype  \n",
      "---  ------                --------------  -----  \n",
      " 0   Date                  15086 non-null  object \n",
      " 1   State/UnionTerritory  15086 non-null  object \n",
      " 2   Cured                 15086 non-null  float64\n",
      " 3   Deaths                15086 non-null  float64\n",
      " 4   Confirmed             15086 non-null  float64\n",
      "dtypes: float64(3), object(2)\n",
      "memory usage: 707.2+ KB\n"
     ]
    }
   ],
   "source": [
    "df.info()"
   ]
  },
  {
   "cell_type": "code",
   "execution_count": 15,
   "id": "a5014eb9",
   "metadata": {},
   "outputs": [],
   "source": [
    "#converting data types\n",
    "df['Cured']=df['Cured'].astype(int)\n",
    "df['Deaths']=df['Deaths'].astype(int)\n",
    "df['Confirmed']=df['Confirmed'].astype(int)\n",
    "df['Date']=pd.to_datetime(df['Date'],format= \"%Y-%m-%d\")"
   ]
  },
  {
   "cell_type": "code",
   "execution_count": 16,
   "id": "59d7b412",
   "metadata": {},
   "outputs": [
    {
     "data": {
      "text/html": [
       "<div>\n",
       "<style scoped>\n",
       "    .dataframe tbody tr th:only-of-type {\n",
       "        vertical-align: middle;\n",
       "    }\n",
       "\n",
       "    .dataframe tbody tr th {\n",
       "        vertical-align: top;\n",
       "    }\n",
       "\n",
       "    .dataframe thead th {\n",
       "        text-align: right;\n",
       "    }\n",
       "</style>\n",
       "<table border=\"1\" class=\"dataframe\">\n",
       "  <thead>\n",
       "    <tr style=\"text-align: right;\">\n",
       "      <th></th>\n",
       "      <th>Date</th>\n",
       "      <th>State/UnionTerritory</th>\n",
       "      <th>Cured</th>\n",
       "      <th>Deaths</th>\n",
       "      <th>Confirmed</th>\n",
       "    </tr>\n",
       "  </thead>\n",
       "  <tbody>\n",
       "    <tr>\n",
       "      <th>0</th>\n",
       "      <td>2020-01-30</td>\n",
       "      <td>Kerala</td>\n",
       "      <td>0</td>\n",
       "      <td>0</td>\n",
       "      <td>1</td>\n",
       "    </tr>\n",
       "    <tr>\n",
       "      <th>1</th>\n",
       "      <td>2020-01-31</td>\n",
       "      <td>Kerala</td>\n",
       "      <td>0</td>\n",
       "      <td>0</td>\n",
       "      <td>1</td>\n",
       "    </tr>\n",
       "  </tbody>\n",
       "</table>\n",
       "</div>"
      ],
      "text/plain": [
       "        Date State/UnionTerritory  Cured  Deaths  Confirmed\n",
       "0 2020-01-30               Kerala      0       0          1\n",
       "1 2020-01-31               Kerala      0       0          1"
      ]
     },
     "execution_count": 16,
     "metadata": {},
     "output_type": "execute_result"
    }
   ],
   "source": [
    "df.head(2)"
   ]
  },
  {
   "cell_type": "markdown",
   "id": "1297c830",
   "metadata": {},
   "source": [
    "# Introducing new columns"
   ]
  },
  {
   "cell_type": "code",
   "execution_count": 17,
   "id": "c5cc7358",
   "metadata": {},
   "outputs": [],
   "source": [
    "df[\"Active\"]=df[\"Confirmed\"]-(df[\"Cured\"]+df[\"Deaths\"])\n",
    "df[\"Recovery rate(%)\"]=(df[\"Cured\"]/df[\"Confirmed\"])*100\n",
    "df[\"Mortality rate(%)\"]=(df[\"Deaths\"]/df[\"Confirmed\"])*100\n",
    "df[\"Year\"]=df[\"Date\"].dt.strftime(\"%m-%Y\")"
   ]
  },
  {
   "cell_type": "code",
   "execution_count": 18,
   "id": "45d99c9f",
   "metadata": {},
   "outputs": [
    {
     "data": {
      "text/html": [
       "<div>\n",
       "<style scoped>\n",
       "    .dataframe tbody tr th:only-of-type {\n",
       "        vertical-align: middle;\n",
       "    }\n",
       "\n",
       "    .dataframe tbody tr th {\n",
       "        vertical-align: top;\n",
       "    }\n",
       "\n",
       "    .dataframe thead th {\n",
       "        text-align: right;\n",
       "    }\n",
       "</style>\n",
       "<table border=\"1\" class=\"dataframe\">\n",
       "  <thead>\n",
       "    <tr style=\"text-align: right;\">\n",
       "      <th></th>\n",
       "      <th>Date</th>\n",
       "      <th>State/UnionTerritory</th>\n",
       "      <th>Cured</th>\n",
       "      <th>Deaths</th>\n",
       "      <th>Confirmed</th>\n",
       "      <th>Active</th>\n",
       "      <th>Recovery rate(%)</th>\n",
       "      <th>Mortality rate(%)</th>\n",
       "      <th>Year</th>\n",
       "    </tr>\n",
       "  </thead>\n",
       "  <tbody>\n",
       "    <tr>\n",
       "      <th>0</th>\n",
       "      <td>2020-01-30</td>\n",
       "      <td>Kerala</td>\n",
       "      <td>0</td>\n",
       "      <td>0</td>\n",
       "      <td>1</td>\n",
       "      <td>1</td>\n",
       "      <td>0.0</td>\n",
       "      <td>0.0</td>\n",
       "      <td>01-2020</td>\n",
       "    </tr>\n",
       "    <tr>\n",
       "      <th>1</th>\n",
       "      <td>2020-01-31</td>\n",
       "      <td>Kerala</td>\n",
       "      <td>0</td>\n",
       "      <td>0</td>\n",
       "      <td>1</td>\n",
       "      <td>1</td>\n",
       "      <td>0.0</td>\n",
       "      <td>0.0</td>\n",
       "      <td>01-2020</td>\n",
       "    </tr>\n",
       "  </tbody>\n",
       "</table>\n",
       "</div>"
      ],
      "text/plain": [
       "        Date State/UnionTerritory  Cured  Deaths  Confirmed  Active  \\\n",
       "0 2020-01-30               Kerala      0       0          1       1   \n",
       "1 2020-01-31               Kerala      0       0          1       1   \n",
       "\n",
       "   Recovery rate(%)  Mortality rate(%)     Year  \n",
       "0               0.0                0.0  01-2020  \n",
       "1               0.0                0.0  01-2020  "
      ]
     },
     "execution_count": 18,
     "metadata": {},
     "output_type": "execute_result"
    }
   ],
   "source": [
    "df.head(2)"
   ]
  },
  {
   "cell_type": "code",
   "execution_count": 19,
   "id": "980b29dd",
   "metadata": {},
   "outputs": [],
   "source": [
    "#Dropping the 'Date' column\n",
    "df.drop(columns=[\"Date\"],inplace=True)"
   ]
  },
  {
   "cell_type": "code",
   "execution_count": 20,
   "id": "81fc1265",
   "metadata": {},
   "outputs": [
    {
     "data": {
      "text/html": [
       "<div>\n",
       "<style scoped>\n",
       "    .dataframe tbody tr th:only-of-type {\n",
       "        vertical-align: middle;\n",
       "    }\n",
       "\n",
       "    .dataframe tbody tr th {\n",
       "        vertical-align: top;\n",
       "    }\n",
       "\n",
       "    .dataframe thead th {\n",
       "        text-align: right;\n",
       "    }\n",
       "</style>\n",
       "<table border=\"1\" class=\"dataframe\">\n",
       "  <thead>\n",
       "    <tr style=\"text-align: right;\">\n",
       "      <th></th>\n",
       "      <th>Cured</th>\n",
       "      <th>Deaths</th>\n",
       "      <th>Confirmed</th>\n",
       "      <th>Active</th>\n",
       "      <th>Recovery rate(%)</th>\n",
       "      <th>Mortality rate(%)</th>\n",
       "    </tr>\n",
       "  </thead>\n",
       "  <tbody>\n",
       "    <tr>\n",
       "      <th>count</th>\n",
       "      <td>1.508600e+04</td>\n",
       "      <td>15086.000000</td>\n",
       "      <td>1.508600e+04</td>\n",
       "      <td>15086.000000</td>\n",
       "      <td>15040.000000</td>\n",
       "      <td>15040.000000</td>\n",
       "    </tr>\n",
       "    <tr>\n",
       "      <th>mean</th>\n",
       "      <td>1.747937e+05</td>\n",
       "      <td>2721.084449</td>\n",
       "      <td>1.942820e+05</td>\n",
       "      <td>16767.273300</td>\n",
       "      <td>73.691235</td>\n",
       "      <td>1.330931</td>\n",
       "    </tr>\n",
       "    <tr>\n",
       "      <th>std</th>\n",
       "      <td>3.648330e+05</td>\n",
       "      <td>7182.672358</td>\n",
       "      <td>4.095184e+05</td>\n",
       "      <td>51659.003536</td>\n",
       "      <td>28.652147</td>\n",
       "      <td>1.768226</td>\n",
       "    </tr>\n",
       "    <tr>\n",
       "      <th>min</th>\n",
       "      <td>0.000000e+00</td>\n",
       "      <td>0.000000</td>\n",
       "      <td>0.000000e+00</td>\n",
       "      <td>-9368.000000</td>\n",
       "      <td>0.000000</td>\n",
       "      <td>0.000000</td>\n",
       "    </tr>\n",
       "    <tr>\n",
       "      <th>25%</th>\n",
       "      <td>1.685000e+03</td>\n",
       "      <td>12.000000</td>\n",
       "      <td>2.935500e+03</td>\n",
       "      <td>238.250000</td>\n",
       "      <td>62.158133</td>\n",
       "      <td>0.492268</td>\n",
       "    </tr>\n",
       "    <tr>\n",
       "      <th>50%</th>\n",
       "      <td>1.964700e+04</td>\n",
       "      <td>364.000000</td>\n",
       "      <td>2.608150e+04</td>\n",
       "      <td>1926.000000</td>\n",
       "      <td>84.886308</td>\n",
       "      <td>1.155913</td>\n",
       "    </tr>\n",
       "    <tr>\n",
       "      <th>75%</th>\n",
       "      <td>2.087552e+05</td>\n",
       "      <td>2170.000000</td>\n",
       "      <td>2.216012e+05</td>\n",
       "      <td>11236.000000</td>\n",
       "      <td>96.293304</td>\n",
       "      <td>1.634231</td>\n",
       "    </tr>\n",
       "    <tr>\n",
       "      <th>max</th>\n",
       "      <td>4.927480e+06</td>\n",
       "      <td>83777.000000</td>\n",
       "      <td>5.433506e+06</td>\n",
       "      <td>701614.000000</td>\n",
       "      <td>100.000000</td>\n",
       "      <td>50.000000</td>\n",
       "    </tr>\n",
       "  </tbody>\n",
       "</table>\n",
       "</div>"
      ],
      "text/plain": [
       "              Cured        Deaths     Confirmed         Active  \\\n",
       "count  1.508600e+04  15086.000000  1.508600e+04   15086.000000   \n",
       "mean   1.747937e+05   2721.084449  1.942820e+05   16767.273300   \n",
       "std    3.648330e+05   7182.672358  4.095184e+05   51659.003536   \n",
       "min    0.000000e+00      0.000000  0.000000e+00   -9368.000000   \n",
       "25%    1.685000e+03     12.000000  2.935500e+03     238.250000   \n",
       "50%    1.964700e+04    364.000000  2.608150e+04    1926.000000   \n",
       "75%    2.087552e+05   2170.000000  2.216012e+05   11236.000000   \n",
       "max    4.927480e+06  83777.000000  5.433506e+06  701614.000000   \n",
       "\n",
       "       Recovery rate(%)  Mortality rate(%)  \n",
       "count      15040.000000       15040.000000  \n",
       "mean          73.691235           1.330931  \n",
       "std           28.652147           1.768226  \n",
       "min            0.000000           0.000000  \n",
       "25%           62.158133           0.492268  \n",
       "50%           84.886308           1.155913  \n",
       "75%           96.293304           1.634231  \n",
       "max          100.000000          50.000000  "
      ]
     },
     "execution_count": 20,
     "metadata": {},
     "output_type": "execute_result"
    }
   ],
   "source": [
    "#Numerical statistics of the dataset\n",
    "df.describe()"
   ]
  },
  {
   "cell_type": "markdown",
   "id": "212ec447",
   "metadata": {},
   "source": [
    "# visualization"
   ]
  },
  {
   "cell_type": "code",
   "execution_count": 21,
   "id": "85ce1022",
   "metadata": {
    "scrolled": true
   },
   "outputs": [
    {
     "data": {
      "text/html": [
       "<div>\n",
       "<style scoped>\n",
       "    .dataframe tbody tr th:only-of-type {\n",
       "        vertical-align: middle;\n",
       "    }\n",
       "\n",
       "    .dataframe tbody tr th {\n",
       "        vertical-align: top;\n",
       "    }\n",
       "\n",
       "    .dataframe thead th {\n",
       "        text-align: right;\n",
       "    }\n",
       "</style>\n",
       "<table border=\"1\" class=\"dataframe\">\n",
       "  <thead>\n",
       "    <tr style=\"text-align: right;\">\n",
       "      <th></th>\n",
       "      <th>State/UnionTerritory</th>\n",
       "      <th>Cured</th>\n",
       "      <th>Deaths</th>\n",
       "      <th>Confirmed</th>\n",
       "      <th>Active</th>\n",
       "      <th>Recovery rate(%)</th>\n",
       "      <th>Mortality rate(%)</th>\n",
       "      <th>Year</th>\n",
       "    </tr>\n",
       "  </thead>\n",
       "  <tbody>\n",
       "    <tr>\n",
       "      <th>0</th>\n",
       "      <td>Kerala</td>\n",
       "      <td>0</td>\n",
       "      <td>0</td>\n",
       "      <td>1</td>\n",
       "      <td>1</td>\n",
       "      <td>0.0</td>\n",
       "      <td>0.0</td>\n",
       "      <td>01-2020</td>\n",
       "    </tr>\n",
       "    <tr>\n",
       "      <th>1</th>\n",
       "      <td>Kerala</td>\n",
       "      <td>0</td>\n",
       "      <td>0</td>\n",
       "      <td>1</td>\n",
       "      <td>1</td>\n",
       "      <td>0.0</td>\n",
       "      <td>0.0</td>\n",
       "      <td>01-2020</td>\n",
       "    </tr>\n",
       "    <tr>\n",
       "      <th>2</th>\n",
       "      <td>Kerala</td>\n",
       "      <td>0</td>\n",
       "      <td>0</td>\n",
       "      <td>2</td>\n",
       "      <td>2</td>\n",
       "      <td>0.0</td>\n",
       "      <td>0.0</td>\n",
       "      <td>02-2020</td>\n",
       "    </tr>\n",
       "    <tr>\n",
       "      <th>3</th>\n",
       "      <td>Kerala</td>\n",
       "      <td>0</td>\n",
       "      <td>0</td>\n",
       "      <td>3</td>\n",
       "      <td>3</td>\n",
       "      <td>0.0</td>\n",
       "      <td>0.0</td>\n",
       "      <td>02-2020</td>\n",
       "    </tr>\n",
       "    <tr>\n",
       "      <th>4</th>\n",
       "      <td>Kerala</td>\n",
       "      <td>0</td>\n",
       "      <td>0</td>\n",
       "      <td>3</td>\n",
       "      <td>3</td>\n",
       "      <td>0.0</td>\n",
       "      <td>0.0</td>\n",
       "      <td>02-2020</td>\n",
       "    </tr>\n",
       "  </tbody>\n",
       "</table>\n",
       "</div>"
      ],
      "text/plain": [
       "  State/UnionTerritory  Cured  Deaths  Confirmed  Active  Recovery rate(%)  \\\n",
       "0               Kerala      0       0          1       1               0.0   \n",
       "1               Kerala      0       0          1       1               0.0   \n",
       "2               Kerala      0       0          2       2               0.0   \n",
       "3               Kerala      0       0          3       3               0.0   \n",
       "4               Kerala      0       0          3       3               0.0   \n",
       "\n",
       "   Mortality rate(%)     Year  \n",
       "0                0.0  01-2020  \n",
       "1                0.0  01-2020  \n",
       "2                0.0  02-2020  \n",
       "3                0.0  02-2020  \n",
       "4                0.0  02-2020  "
      ]
     },
     "execution_count": 21,
     "metadata": {},
     "output_type": "execute_result"
    }
   ],
   "source": [
    "df.head()"
   ]
  },
  {
   "cell_type": "code",
   "execution_count": 22,
   "id": "3b317fa1",
   "metadata": {},
   "outputs": [
    {
     "data": {
      "image/png": "[encoded data removed]",
      "text/plain": [
       "<Figure size 720x288 with 1 Axes>"
      ]
     },
     "metadata": {
      "needs_background": "light"
     },
     "output_type": "display_data"
    }
   ],
   "source": [
    "#state confirmed\n",
    "df.groupby(\"State/UnionTerritory\")[\"Confirmed\"].sum().sort_values(ascending=False).plot(kind=\"bar\",figsize=(10,4),xlabel=\"State/UnionTerritory\",ylabel=\"Confirmed\",title=\"state confirmed\");"
   ]
  },
  {
   "cell_type": "code",
   "execution_count": 23,
   "id": "881736f2",
   "metadata": {},
   "outputs": [
    {
     "data": {
      "image/png": "[encoded data removed]",
      "text/plain": [
       "<Figure size 720x288 with 1 Axes>"
      ]
     },
     "metadata": {
      "needs_background": "light"
     },
     "output_type": "display_data"
    }
   ],
   "source": [
    "df.groupby(\"State/UnionTerritory\")[\"Cured\"].sum().sort_values(ascending=False).plot(kind=\"bar\",figsize=(10,4),xlabel=\"State/UnionTerritory\",ylabel=\"Cured\",title=\"state cured\");"
   ]
  },
  {
   "cell_type": "code",
   "execution_count": 24,
   "id": "ca29b020",
   "metadata": {
    "scrolled": true
   },
   "outputs": [
    {
     "data": {
      "image/png": "[encoded data removed]",
      "text/plain": [
       "<Figure size 720x288 with 1 Axes>"
      ]
     },
     "metadata": {
      "needs_background": "light"
     },
     "output_type": "display_data"
    }
   ],
   "source": [
    "# active state cases \n",
    "df.groupby(\"State/UnionTerritory\")[\"Active\"].sum().sort_values(ascending=False).plot(kind=\"bar\",figsize=(10,4),xlabel=\"State/UnionTerritory\",ylabel=\"Active\",title=\"Active state cases\");"
   ]
  },
  {
   "cell_type": "code",
   "execution_count": 25,
   "id": "de53e91b",
   "metadata": {
    "scrolled": true
   },
   "outputs": [
    {
     "data": {
      "image/png": "[encoded data removed]",
      "text/plain": [
       "<Figure size 720x288 with 1 Axes>"
      ]
     },
     "metadata": {
      "needs_background": "light"
     },
     "output_type": "display_data"
    }
   ],
   "source": [
    "#state deaths\n",
    "df.groupby(\"State/UnionTerritory\")[\"Deaths\"].sum().sort_values(ascending=False).plot(kind=\"bar\",figsize=(10,4),xlabel=\"State/UnionTerritory\",ylabel=\"Deaths\",title=\"state deaths\");"
   ]
  },
  {
   "cell_type": "code",
   "execution_count": 26,
   "id": "cc33b169",
   "metadata": {},
   "outputs": [
    {
     "data": {
      "image/png": "[encoded data removed]",
      "text/plain": [
       "<Figure size 720x288 with 1 Axes>"
      ]
     },
     "metadata": {
      "needs_background": "light"
     },
     "output_type": "display_data"
    }
   ],
   "source": [
    "#State recovery rate\n",
    "df.groupby(\"State/UnionTerritory\")[\"Recovery rate(%)\"].sum().sort_values(ascending=False).plot(kind=\"bar\",figsize=(10,4),xlabel=\"State/UnionTerritory\",ylabel=\"Recovery rate(%)\",title=\"State recovery rate\");"
   ]
  },
  {
   "cell_type": "code",
   "execution_count": 27,
   "id": "80e2a8e4",
   "metadata": {
    "scrolled": true
   },
   "outputs": [
    {
     "data": {
      "image/png": "[encoded data removed]",
      "text/plain": [
       "<Figure size 720x288 with 1 Axes>"
      ]
     },
     "metadata": {
      "needs_background": "light"
     },
     "output_type": "display_data"
    }
   ],
   "source": [
    "#State mortality rate\n",
    "df.groupby(\"State/UnionTerritory\")[\"Mortality rate(%)\"].sum().sort_values(ascending=False).plot(kind=\"bar\",figsize=(10,4),xlabel=\"State/UnionTerritory\",ylabel=\"Mortality rate(%)\",title=\"State mortality rate\");"
   ]
  },
  {
   "cell_type": "code",
   "execution_count": 28,
   "id": "9056be65",
   "metadata": {},
   "outputs": [
    {
     "data": {
      "text/html": [
       "<div>\n",
       "<style scoped>\n",
       "    .dataframe tbody tr th:only-of-type {\n",
       "        vertical-align: middle;\n",
       "    }\n",
       "\n",
       "    .dataframe tbody tr th {\n",
       "        vertical-align: top;\n",
       "    }\n",
       "\n",
       "    .dataframe thead th {\n",
       "        text-align: right;\n",
       "    }\n",
       "</style>\n",
       "<table border=\"1\" class=\"dataframe\">\n",
       "  <thead>\n",
       "    <tr style=\"text-align: right;\">\n",
       "      <th></th>\n",
       "      <th>State/UnionTerritory</th>\n",
       "      <th>Cured</th>\n",
       "      <th>Deaths</th>\n",
       "      <th>Confirmed</th>\n",
       "      <th>Active</th>\n",
       "      <th>Recovery rate(%)</th>\n",
       "      <th>Mortality rate(%)</th>\n",
       "      <th>Year</th>\n",
       "    </tr>\n",
       "  </thead>\n",
       "  <tbody>\n",
       "    <tr>\n",
       "      <th>0</th>\n",
       "      <td>Kerala</td>\n",
       "      <td>0</td>\n",
       "      <td>0</td>\n",
       "      <td>1</td>\n",
       "      <td>1</td>\n",
       "      <td>0.0</td>\n",
       "      <td>0.0</td>\n",
       "      <td>01-2020</td>\n",
       "    </tr>\n",
       "    <tr>\n",
       "      <th>1</th>\n",
       "      <td>Kerala</td>\n",
       "      <td>0</td>\n",
       "      <td>0</td>\n",
       "      <td>1</td>\n",
       "      <td>1</td>\n",
       "      <td>0.0</td>\n",
       "      <td>0.0</td>\n",
       "      <td>01-2020</td>\n",
       "    </tr>\n",
       "  </tbody>\n",
       "</table>\n",
       "</div>"
      ],
      "text/plain": [
       "  State/UnionTerritory  Cured  Deaths  Confirmed  Active  Recovery rate(%)  \\\n",
       "0               Kerala      0       0          1       1               0.0   \n",
       "1               Kerala      0       0          1       1               0.0   \n",
       "\n",
       "   Mortality rate(%)     Year  \n",
       "0                0.0  01-2020  \n",
       "1                0.0  01-2020  "
      ]
     },
     "execution_count": 28,
     "metadata": {},
     "output_type": "execute_result"
    }
   ],
   "source": [
    "df.head(2)"
   ]
  },
  {
   "cell_type": "code",
   "execution_count": 29,
   "id": "87d1c865",
   "metadata": {},
   "outputs": [
    {
     "data": {
      "image/png": "[encoded data removed]",
      "text/plain": [
       "<Figure size 720x288 with 1 Axes>"
      ]
     },
     "metadata": {
      "needs_background": "light"
     },
     "output_type": "display_data"
    }
   ],
   "source": [
    "#Annual confirmed\n",
    "df.groupby(\"Year\")[\"Confirmed\"].sum().sort_values(ascending=False).plot(kind=\"bar\",figsize=(10,4),xlabel=\"Year\",ylabel=\"Confirmed\",title=\"Annual Confirmed\");"
   ]
  },
  {
   "cell_type": "code",
   "execution_count": 30,
   "id": "fc03f61c",
   "metadata": {
    "scrolled": true
   },
   "outputs": [
    {
     "data": {
      "image/png": "[encoded data removed]",
      "text/plain": [
       "<Figure size 720x288 with 1 Axes>"
      ]
     },
     "metadata": {
      "needs_background": "light"
     },
     "output_type": "display_data"
    }
   ],
   "source": [
    "#Annual cures\n",
    "df.groupby(\"Year\")[\"Cured\"].sum().sort_values(ascending=False).plot(kind=\"bar\",figsize=(10,4),xlabel=\"Year\",ylabel=\"Cured\",title=\"Annual Cures\");"
   ]
  },
  {
   "cell_type": "code",
   "execution_count": 31,
   "id": "d3720563",
   "metadata": {},
   "outputs": [
    {
     "data": {
      "image/png": "[encoded data removed]",
      "text/plain": [
       "<Figure size 720x288 with 1 Axes>"
      ]
     },
     "metadata": {
      "needs_background": "light"
     },
     "output_type": "display_data"
    }
   ],
   "source": [
    "df.groupby(\"Year\")[\"Deaths\"].sum().sort_values(ascending=False).plot(kind=\"bar\",figsize=(10,4),xlabel=\"Year\",ylabel=\"Deaths\",title=\"Annual deaths\");"
   ]
  },
  {
   "cell_type": "code",
   "execution_count": 32,
   "id": "fb674ee0",
   "metadata": {
    "scrolled": true
   },
   "outputs": [
    {
     "data": {
      "image/png": "[encoded data removed]",
      "text/plain": [
       "<Figure size 720x288 with 1 Axes>"
      ]
     },
     "metadata": {
      "needs_background": "light"
     },
     "output_type": "display_data"
    }
   ],
   "source": [
    "#Annual mortality rate\n",
    "df.groupby(\"Year\")[\"Mortality rate(%)\"].sum().sort_values(ascending=False).plot(kind=\"bar\",figsize=(10,4),xlabel=\"Year\",ylabel=\"Mortality rate(%)\",title=\"Annual mortality rate\");"
   ]
  },
  {
   "cell_type": "code",
   "execution_count": 33,
   "id": "3e43182a",
   "metadata": {},
   "outputs": [
    {
     "data": {
      "image/png": "[encoded data removed]",
      "text/plain": [
       "<Figure size 720x288 with 1 Axes>"
      ]
     },
     "metadata": {
      "needs_background": "light"
     },
     "output_type": "display_data"
    }
   ],
   "source": [
    "df.groupby(\"Year\")[\"Recovery rate(%)\"].sum().sort_values(ascending=False).plot(kind=\"bar\",figsize=(10,4),xlabel=\"Year\",ylabel=\"Recovery rate(%)\",title=\"Annual Recovery rate\");"
   ]
  },
  {
   "cell_type": "code",
   "execution_count": null,
   "id": "3c60d46b",
   "metadata": {},
   "outputs": [],
   "source": []
  }
 ],
 "metadata": {
  "kernelspec": {
   "display_name": "Python 3 (ipykernel)",
   "language": "python",
   "name": "python3"
  },
  "language_info": {
   "codemirror_mode": {
    "name": "ipython",
    "version": 3
   },
   "file_extension": ".py",
   "mimetype": "text/x-python",
   "name": "python",
   "nbconvert_exporter": "python",
   "pygments_lexer": "ipython3",
   "version": "3.9.12"
  }
 },
 "nbformat": 4,
 "nbformat_minor": 5
}
